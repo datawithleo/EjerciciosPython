{
 "cells": [
  {
   "attachments": {},
   "cell_type": "markdown",
   "metadata": {},
   "source": [
    "¿Cual es el maximo valor que puede representarse con 16 bits y un sistema de representacion posicional como el\n",
    "descrito? ¿Que secuencia de bits le corresponde?"
   ]
  },
  {
   "cell_type": "code",
   "execution_count": 2,
   "metadata": {},
   "outputs": [
    {
     "name": "stdout",
     "output_type": "stream",
     "text": [
      "0b111111111111111\n"
     ]
    }
   ],
   "source": [
    "max_val = pow(2, 16-1) - 1\n",
    "bin_str = bin(max_val)\n",
    "print(bin_str)"
   ]
  }
 ],
 "metadata": {
  "kernelspec": {
   "display_name": "Python 3",
   "language": "python",
   "name": "python3"
  },
  "language_info": {
   "codemirror_mode": {
    "name": "ipython",
    "version": 3
   },
   "file_extension": ".py",
   "mimetype": "text/x-python",
   "name": "python",
   "nbconvert_exporter": "python",
   "pygments_lexer": "ipython3",
   "version": "3.10.9"
  },
  "orig_nbformat": 4,
  "vscode": {
   "interpreter": {
    "hash": "6eae86e4343510915c9fa3d29886f8c45b196ed8e650df451e40e3b712cdf1c0"
   }
  }
 },
 "nbformat": 4,
 "nbformat_minor": 2
}
